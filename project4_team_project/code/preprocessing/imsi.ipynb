{
 "cells": [
  {
   "cell_type": "code",
   "execution_count": 3,
   "metadata": {},
   "outputs": [],
   "source": [
    "import os\n",
    "import numpy as np\n",
    "from PIL import Image\n",
    "\n",
    "setting_year=\"2023\"\n",
    "ipath        = \"/media/data2/cy/SL2023/project4_team_project/data/\"\n",
    "ipath_latlon = ipath+\"input_data1/latlon/\"\n",
    "ipath_lsmask = ipath+\"input_data1/lsmask/\"\n",
    "\n",
    "# 앞 6강의에서 산출한 output 파일 활용\n",
    "ipath_l1b    = ipath+\"output_01_bin/\"\n",
    "# 앞선 강의에서 만든 폴더\n",
    "#if not os.path.exists(ipath_l1b): os.mkdir(ipath_l1b)\n",
    "opath        = ipath_l1b\n",
    "\n",
    "opath_dust_rgb = ipath+\"output_02_rgb/\"\n",
    "#if not os.path.exists(opath_dust_rgb): os.mkdir(opath_dust_rgb)\n",
    "\n",
    "opath_bin    = ipath+\"output_02_rgb/\"\n",
    "#if not os.path.exists(opath_bin): os.mkdir(opath_bin)\n",
    "\n",
    "# 폴더에서 모든 npy 파일 로드\n",
    "npy_folder = opath_dust_rgb + f\"/image_{setting_year}/\"\n",
    "npy_files = [f for f in os.listdir(npy_folder) if f.endswith(\".npy\")]\n",
    "\n",
    "# 누적 변수 초기화\n",
    "total_rgb_array = np.zeros((5500, 5500, 3), dtype='float64')\n",
    "num_arrays = 0\n",
    "\n",
    "# 모든 npy 파일에 대해 루프\n",
    "for npy_file in npy_files:\n",
    "    # npy 파일 로드\n",
    "    rgb_array = np.load(os.path.join(npy_folder, npy_file))\n",
    "\n",
    "    # 누적\n",
    "    total_rgb_array += rgb_array\n",
    "    num_arrays += 1\n",
    "\n",
    "# 최종적인 평균 계산\n",
    "average_rgb_array = total_rgb_array / num_arrays\n",
    "\n",
    "# uint8 형식으로 변환하여 시각화\n",
    "average_rgb_array_uint8 = (average_rgb_array.clip(0, 255)).astype('uint8')\n",
    "\n",
    "# 이미지로 변환하고 저장\n",
    "average_rgb_png = Image.fromarray(average_rgb_array_uint8)\n",
    "average_rgb_png.save(opath_dust_rgb + f\"/average_rgb_image_{setting_year}.png\")\n",
    "\n",
    "# 시각화된 이미지를 화면에 표시하려면 다음과 같이 사용할 수 있습니다.\n",
    "average_rgb_png.show()"
   ]
  }
 ],
 "metadata": {
  "kernelspec": {
   "display_name": "Python 3.7.10 ('tf')",
   "language": "python",
   "name": "python3"
  },
  "language_info": {
   "codemirror_mode": {
    "name": "ipython",
    "version": 3
   },
   "file_extension": ".py",
   "mimetype": "text/x-python",
   "name": "python",
   "nbconvert_exporter": "python",
   "pygments_lexer": "ipython3",
   "version": "3.7.10"
  },
  "orig_nbformat": 4,
  "vscode": {
   "interpreter": {
    "hash": "3e48342e42fbf06000ce36b0ac2e7ccb2e4c144c730bfa03753003ef5e5fd144"
   }
  }
 },
 "nbformat": 4,
 "nbformat_minor": 2
}
